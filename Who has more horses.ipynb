{
 "cells": [
  {
   "cell_type": "code",
   "execution_count": null,
   "id": "10eedf93",
   "metadata": {},
   "outputs": [],
   "source": [
    "# If Gavin has 5 horses, is the number of horses given by you more than, less than or equal to the number of horses Gavin has?"
   ]
  },
  {
   "cell_type": "code",
   "execution_count": 1,
   "id": "2b30e5b0",
   "metadata": {},
   "outputs": [],
   "source": [
    "number_of_gavin_horses = 5"
   ]
  },
  {
   "cell_type": "code",
   "execution_count": 5,
   "id": "abda25f0",
   "metadata": {},
   "outputs": [
    {
     "name": "stdout",
     "output_type": "stream",
     "text": [
      "How many horses you have?6\n"
     ]
    }
   ],
   "source": [
    "your_horses = int(input(\"How many horses you have?\"))"
   ]
  },
  {
   "cell_type": "code",
   "execution_count": 6,
   "id": "5d0738e0",
   "metadata": {},
   "outputs": [
    {
     "name": "stdout",
     "output_type": "stream",
     "text": [
      "The number of your horses is greater than the number of Gavin horses.\n"
     ]
    }
   ],
   "source": [
    "if(your_horses > number_of_gavin_horses):\n",
    "    print(\"The number of your horses is greater than the number of Gavin horses.\")\n",
    "elif(your_horses < number_of_gavin_horses):\n",
    "    print(\"The number of your horses is less than the number of Gavin horses.\")\n",
    "else:\n",
    "    print(\"You and Gavin have the same number of horses\")"
   ]
  },
  {
   "cell_type": "code",
   "execution_count": null,
   "id": "5879506d",
   "metadata": {},
   "outputs": [],
   "source": []
  }
 ],
 "metadata": {
  "kernelspec": {
   "display_name": "Python 3",
   "language": "python",
   "name": "python3"
  },
  "language_info": {
   "codemirror_mode": {
    "name": "ipython",
    "version": 3
   },
   "file_extension": ".py",
   "mimetype": "text/x-python",
   "name": "python",
   "nbconvert_exporter": "python",
   "pygments_lexer": "ipython3",
   "version": "3.8.8"
  }
 },
 "nbformat": 4,
 "nbformat_minor": 5
}
