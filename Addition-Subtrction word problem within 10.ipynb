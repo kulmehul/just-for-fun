{
 "cells": [
  {
   "cell_type": "code",
   "execution_count": null,
   "id": "40b1bf25",
   "metadata": {},
   "outputs": [],
   "source": [
    "# Three flowers (pushpa) bloomed yesterday, 2 more bloomed today. How many flowers are there in total?"
   ]
  },
  {
   "cell_type": "code",
   "execution_count": 4,
   "id": "45fb38f0",
   "metadata": {},
   "outputs": [],
   "source": [
    "no_of_flowers_bloomed_yesterday = 3"
   ]
  },
  {
   "cell_type": "code",
   "execution_count": 5,
   "id": "d1887c75",
   "metadata": {},
   "outputs": [],
   "source": [
    "no_of_flowers_bloomed_today = 2"
   ]
  },
  {
   "cell_type": "code",
   "execution_count": 11,
   "id": "156bd1a3",
   "metadata": {},
   "outputs": [
    {
     "name": "stdout",
     "output_type": "stream",
     "text": [
      "The total number of flowers bloomed are :  5\n"
     ]
    }
   ],
   "source": [
    "total_no_of_flowers = print(\"The total number of flowers bloomed are : \" \\\n",
    "                            ,no_of_flowers_bloomed_yesterday + no_of_flowers_bloomed_today)"
   ]
  },
  {
   "cell_type": "code",
   "execution_count": 10,
   "id": "25a30e74",
   "metadata": {},
   "outputs": [],
   "source": [
    "# There were 2 sharks. 6 more sharks came. How many sharks are there now?"
   ]
  },
  {
   "cell_type": "code",
   "execution_count": 15,
   "id": "8af7e3d5",
   "metadata": {},
   "outputs": [],
   "source": [
    "kitni_sharks_thi = 2"
   ]
  },
  {
   "cell_type": "code",
   "execution_count": 16,
   "id": "75ca8c8f",
   "metadata": {},
   "outputs": [],
   "source": [
    "kitni_sharks_aur_aa_gyi = 6"
   ]
  },
  {
   "cell_type": "code",
   "execution_count": 17,
   "id": "15e8537b",
   "metadata": {},
   "outputs": [
    {
     "name": "stdout",
     "output_type": "stream",
     "text": [
      "Itni sharks h total sir: 8\n"
     ]
    }
   ],
   "source": [
    "ab_kitni_ho_gyi = print(\"Itni sharks h total sir:\", kitni_sharks_thi+ kitni_sharks_aur_aa_gyi)"
   ]
  },
  {
   "cell_type": "code",
   "execution_count": 18,
   "id": "6c6cf822",
   "metadata": {},
   "outputs": [],
   "source": [
    "# A squirrel picked up 7 acorns. She picked up one more acorns. How many acorns she picked up?"
   ]
  },
  {
   "cell_type": "code",
   "execution_count": 19,
   "id": "30c9c2e5",
   "metadata": {},
   "outputs": [],
   "source": [
    "no_of_acorns_squirrel_picked_before = 7"
   ]
  },
  {
   "cell_type": "code",
   "execution_count": 20,
   "id": "45fce2e6",
   "metadata": {},
   "outputs": [],
   "source": [
    "no_of_acorns_squirrel_picked_later = 1"
   ]
  },
  {
   "cell_type": "code",
   "execution_count": 25,
   "id": "918792ed",
   "metadata": {},
   "outputs": [
    {
     "name": "stdout",
     "output_type": "stream",
     "text": [
      "Total number of acorns picked by squirrel are:  8\n"
     ]
    }
   ],
   "source": [
    "total_no_of_acorns_picked = print(\"Total number of acorns picked by squirrel are: \", \\\n",
    "                                  no_of_acorns_squirrel_picked_before + no_of_acorns_squirrel_picked_later)"
   ]
  },
  {
   "cell_type": "code",
   "execution_count": 26,
   "id": "1e224644",
   "metadata": {},
   "outputs": [],
   "source": [
    "# There were 10 sharks at the reef. Two sharks swam away. How many are left?"
   ]
  },
  {
   "cell_type": "code",
   "execution_count": 27,
   "id": "d44964ce",
   "metadata": {},
   "outputs": [],
   "source": [
    "sharks_present = 10"
   ]
  },
  {
   "cell_type": "code",
   "execution_count": 28,
   "id": "4bbd3afd",
   "metadata": {},
   "outputs": [],
   "source": [
    "sharks_which_swam_away = 2"
   ]
  },
  {
   "cell_type": "code",
   "execution_count": 29,
   "id": "5c49e21c",
   "metadata": {},
   "outputs": [
    {
     "name": "stdout",
     "output_type": "stream",
     "text": [
      "Remaining sharks are:  8\n"
     ]
    }
   ],
   "source": [
    "remaining_sharks = print(\"Remaining sharks are: \",sharks_present - sharks_which_swam_away)"
   ]
  },
  {
   "cell_type": "code",
   "execution_count": null,
   "id": "927b274b",
   "metadata": {},
   "outputs": [],
   "source": []
  }
 ],
 "metadata": {
  "kernelspec": {
   "display_name": "Python 3",
   "language": "python",
   "name": "python3"
  },
  "language_info": {
   "codemirror_mode": {
    "name": "ipython",
    "version": 3
   },
   "file_extension": ".py",
   "mimetype": "text/x-python",
   "name": "python",
   "nbconvert_exporter": "python",
   "pygments_lexer": "ipython3",
   "version": "3.8.8"
  }
 },
 "nbformat": 4,
 "nbformat_minor": 5
}
