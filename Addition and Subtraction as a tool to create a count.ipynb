{
 "cells": [
  {
   "cell_type": "code",
   "execution_count": 1,
   "id": "bbd912df",
   "metadata": {},
   "outputs": [],
   "source": [
    "# Suppose I want to make 6. Enter the number you have and tell the operation (+ or -)"
   ]
  },
  {
   "cell_type": "code",
   "execution_count": 3,
   "id": "58d13bea",
   "metadata": {},
   "outputs": [
    {
     "name": "stdout",
     "output_type": "stream",
     "text": [
      "Apna no daalo bhai: 10\n"
     ]
    }
   ],
   "source": [
    "aapka_no = int(input(\"Apna no daalo bhai: \"))"
   ]
  },
  {
   "cell_type": "code",
   "execution_count": 4,
   "id": "abbc5171",
   "metadata": {},
   "outputs": [
    {
     "name": "stdout",
     "output_type": "stream",
     "text": [
      "Sir bada number diya h, isliye hum subtract tool yani kuch chize hata k desired count achieve kar skte h.\n",
      "Ek kaam karo 4 hata do, 6 ban jaega\n"
     ]
    }
   ],
   "source": [
    "if(aapka_no>6):\n",
    "    print(\"Sir bada number diya h, isliye hum subtract tool yani kuch chize hata k desired count achieve kar skte h.\")\n",
    "    print(\"Ek kaam karo\",aapka_no - 6,\"hata do, 6 ban jaega\")\n",
    "\n",
    "elif(aapka_no<6):\n",
    "    print(\"Sir number chota h, kuch chize jodo to 6 ban jaega\")\n",
    "    print(\"Suno,\",6-aapka_no,\"add karo, 6 ban jaega\")\n",
    "\n",
    "else:\n",
    "    print(\"Jitna chahiye, utna h. Kuch her-fer krne ki zarurat koni che\")"
   ]
  },
  {
   "cell_type": "code",
   "execution_count": null,
   "id": "397b5c58",
   "metadata": {},
   "outputs": [],
   "source": []
  }
 ],
 "metadata": {
  "kernelspec": {
   "display_name": "Python 3",
   "language": "python",
   "name": "python3"
  },
  "language_info": {
   "codemirror_mode": {
    "name": "ipython",
    "version": 3
   },
   "file_extension": ".py",
   "mimetype": "text/x-python",
   "name": "python",
   "nbconvert_exporter": "python",
   "pygments_lexer": "ipython3",
   "version": "3.8.8"
  }
 },
 "nbformat": 4,
 "nbformat_minor": 5
}
