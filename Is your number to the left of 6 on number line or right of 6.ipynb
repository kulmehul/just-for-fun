{
 "cells": [
  {
   "cell_type": "code",
   "execution_count": null,
   "id": "d8e099eb",
   "metadata": {},
   "outputs": [],
   "source": [
    "# Where does your number lie on the number line? Is is to the left of 6, or is it to the right of 6?"
   ]
  },
  {
   "cell_type": "code",
   "execution_count": 5,
   "id": "e743acec",
   "metadata": {},
   "outputs": [
    {
     "name": "stdout",
     "output_type": "stream",
     "text": [
      "Please tell me your number sirji..6\n"
     ]
    }
   ],
   "source": [
    "your_number = int(input(\"Please tell me your number sirji..\"))"
   ]
  },
  {
   "cell_type": "code",
   "execution_count": 6,
   "id": "ecaa7ff7",
   "metadata": {},
   "outputs": [
    {
     "name": "stdout",
     "output_type": "stream",
     "text": [
      "Arey sir, aapne to 6 hi de diya...\n"
     ]
    }
   ],
   "source": [
    "if(your_number>6):\n",
    "    print(\"Sirji your number lies to the right of 6\")\n",
    "\n",
    "elif(your_number<6):\n",
    "    print(\"Sirji your number lies on the left of 6\")\n",
    "\n",
    "else:\n",
    "    print(\"Arey sir, aapne to 6 hi de diya...\")"
   ]
  },
  {
   "cell_type": "code",
   "execution_count": null,
   "id": "a1682bc6",
   "metadata": {},
   "outputs": [],
   "source": []
  }
 ],
 "metadata": {
  "kernelspec": {
   "display_name": "Python 3",
   "language": "python",
   "name": "python3"
  },
  "language_info": {
   "codemirror_mode": {
    "name": "ipython",
    "version": 3
   },
   "file_extension": ".py",
   "mimetype": "text/x-python",
   "name": "python",
   "nbconvert_exporter": "python",
   "pygments_lexer": "ipython3",
   "version": "3.8.8"
  }
 },
 "nbformat": 4,
 "nbformat_minor": 5
}
