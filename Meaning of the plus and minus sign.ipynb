{
 "cells": [
  {
   "cell_type": "code",
   "execution_count": 22,
   "id": "b00ff594",
   "metadata": {},
   "outputs": [],
   "source": [
    "# Suppose I have 5 blueberries and 3 cherries. What does 5 + 3 mean, and what does 5 - 3 mean?"
   ]
  },
  {
   "cell_type": "code",
   "execution_count": 23,
   "id": "e5fc4393",
   "metadata": {},
   "outputs": [],
   "source": [
    "no_of_blueberries = 5\n",
    "no_of_cherries = 3"
   ]
  },
  {
   "cell_type": "code",
   "execution_count": 24,
   "id": "8333c0c1",
   "metadata": {},
   "outputs": [
    {
     "name": "stdout",
     "output_type": "stream",
     "text": [
      "Kya krna h aapko sir? Jodna h ya minus krna h? Add k lie + tika do, aur minus k liye - input karo\n"
     ]
    }
   ],
   "source": [
    "operation = input(\"Kya krna h aapko sir? Jodna h ya minus krna h? Add k lie + tika do, aur minus k liye - input karo\")"
   ]
  },
  {
   "cell_type": "code",
   "execution_count": 25,
   "id": "8248992b",
   "metadata": {},
   "outputs": [
    {
     "name": "stdout",
     "output_type": "stream",
     "text": [
      "Kya saab, operation hi nhi pta tumhe... + ya - dene ka re..\n"
     ]
    }
   ],
   "source": [
    "if(operation == '+'):\n",
    "    print(\"Tumhare paas\",5+3,\"fal ho gye\")\n",
    "elif(operation == '-'):\n",
    "    print(\"You have eaten 3 blueberries and are left with \",5-2,\"blueberries\")\n",
    "else:\n",
    "    print(\"Kya saab, operation hi nhi pta tumhe... + ya - dene ka re..\")"
   ]
  },
  {
   "cell_type": "code",
   "execution_count": null,
   "id": "9b02af40",
   "metadata": {},
   "outputs": [],
   "source": []
  }
 ],
 "metadata": {
  "kernelspec": {
   "display_name": "Python 3",
   "language": "python",
   "name": "python3"
  },
  "language_info": {
   "codemirror_mode": {
    "name": "ipython",
    "version": 3
   },
   "file_extension": ".py",
   "mimetype": "text/x-python",
   "name": "python",
   "nbconvert_exporter": "python",
   "pygments_lexer": "ipython3",
   "version": "3.8.8"
  }
 },
 "nbformat": 4,
 "nbformat_minor": 5
}
