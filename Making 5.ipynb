{
 "cells": [
  {
   "cell_type": "code",
   "execution_count": 1,
   "id": "1bc1b7c9",
   "metadata": {},
   "outputs": [],
   "source": [
    "# Making 5. If you have some balls, how many more do you need to make 5?"
   ]
  },
  {
   "cell_type": "code",
   "execution_count": 5,
   "id": "acc8aa4d",
   "metadata": {},
   "outputs": [
    {
     "name": "stdout",
     "output_type": "stream",
     "text": [
      "The number of balls I have is: \n",
      "3\n",
      "Sir, you will need  2 more balls to make 5\n"
     ]
    }
   ],
   "source": [
    "no_of_balls = int(input(\"The number of balls I have is: \\n\"))\n",
    "balls_needed = 5 - no_of_balls\n",
    "print(\"Sir, you will need \",balls_needed,\"more balls to make 5\")"
   ]
  },
  {
   "cell_type": "code",
   "execution_count": null,
   "id": "d2baa243",
   "metadata": {},
   "outputs": [],
   "source": []
  }
 ],
 "metadata": {
  "kernelspec": {
   "display_name": "Python 3",
   "language": "python",
   "name": "python3"
  },
  "language_info": {
   "codemirror_mode": {
    "name": "ipython",
    "version": 3
   },
   "file_extension": ".py",
   "mimetype": "text/x-python",
   "name": "python",
   "nbconvert_exporter": "python",
   "pygments_lexer": "ipython3",
   "version": "3.8.8"
  }
 },
 "nbformat": 4,
 "nbformat_minor": 5
}
